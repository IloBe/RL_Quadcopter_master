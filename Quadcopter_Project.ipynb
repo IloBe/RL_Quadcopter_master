{
 "cells": [
  {
   "cell_type": "markdown",
   "metadata": {},
   "source": [
    "# Project: Train a Quadcopter How to Fly\n",
    "\n",
    "Design an agent to fly a quadcopter, and then train it using a reinforcement learning algorithm of your choice! \n",
    "\n",
    "Try to apply the techniques you have learnt, but also feel free to come up with innovative ideas and test them."
   ]
  },
  {
   "cell_type": "markdown",
   "metadata": {},
   "source": [
    "## Import Libraries\n",
    "My Note: From given initial file all import parts are moved to this coding block and deleted from the original position. New ones are added."
   ]
  },
  {
   "cell_type": "code",
   "execution_count": 1,
   "metadata": {},
   "outputs": [
    {
     "name": "stderr",
     "output_type": "stream",
     "text": [
      "Using TensorFlow backend.\n"
     ]
    }
   ],
   "source": [
    "import random\n",
    "import csv\n",
    "import sys\n",
    "import pandas as pd\n",
    "import numpy as np\n",
    "\n",
    "import matplotlib.pyplot as plt\n",
    "%matplotlib inline\n",
    "\n",
    "from task import Task\n",
    "from agents.Agent import Agent\n",
    "from agents.policy_search import PolicySearch_Agent\n",
    "from agents.DDPG_agent import DDPG_Agent\n",
    "\n",
    "%load_ext autoreload\n",
    "%autoreload 2"
   ]
  },
  {
   "cell_type": "markdown",
   "metadata": {},
   "source": [
    "## Instructions\n",
    "\n",
    "Take a look at the files in the directory to better understand the structure of the project. \n",
    "\n",
    "- `task.py`: Define your task (environment) in this file.\n",
    "- `agents/`: Folder containing reinforcement learning agents.\n",
    "    - `policy_search.py`: A sample agent has been provided here.\n",
    "    - `agent.py`: Develop your agent here.<br>\n",
    "       My Note: this class file is used as factory, the implemented agent subclass is DDPG_agent.py\n",
    "- `physics_sim.py`: This file contains the simulator for the quadcopter.  **DO NOT MODIFY THIS FILE**.\n",
    "\n",
    "For this project, you will define your own task in `task.py`.  Although we have provided an example task to get you started, you are encouraged to change it.  Later in this notebook, you will learn more about how to amend this file.\n",
    "\n",
    "You will also design a reinforcement learning agent in `agent.py` to complete your chosen task. (see my note above)\n",
    "\n",
    "You are welcome to create any additional files to help you to organize your code.  For instance, you may find it useful to define a `model.py` file defining any needed neural network architectures.\n",
    "\n",
    "## Controlling the Quadcopter\n",
    "\n",
    "We provide a sample agent in the code cell below to show you how to use the sim to control the quadcopter.  This agent is even simpler than the sample agent that you'll examine (in `agents/policy_search.py`) later in this notebook!\n",
    "\n",
    "The agent controls the quadcopter by setting the revolutions per second on each of its four rotors.  The provided agent in the `Basic_Agent` class below always selects a random action for each of the four rotors.  These four speeds are returned by the `act` method as a list of four floating-point numbers.  \n",
    "\n",
    "For this project, the agent that you will implement in `agents/agent.py` will have a far more intelligent method for selecting actions!"
   ]
  },
  {
   "cell_type": "code",
   "execution_count": 2,
   "metadata": {},
   "outputs": [],
   "source": [
    "class Basic_Agent():\n",
    "    def __init__(self, task):\n",
    "        self.task = task\n",
    "    \n",
    "    def act(self):\n",
    "        new_thrust = random.gauss(450., 25.)\n",
    "        return [new_thrust + random.gauss(0., 1.) for x in range(4)]"
   ]
  },
  {
   "cell_type": "markdown",
   "metadata": {},
   "source": [
    "Run the code cell below to have the agent select actions to control the quadcopter.  \n",
    "\n",
    "Feel free to change the provided values of `runtime`, `init_pose`, `init_velocities`, and `init_angle_velocities` below to change the starting conditions of the quadcopter.\n",
    "\n",
    "The `labels` list below annotates statistics that are saved while running the simulation.  All of this information is saved in a text file `data.txt` and stored in the dictionary `results`.  "
   ]
  },
  {
   "cell_type": "code",
   "execution_count": 3,
   "metadata": {},
   "outputs": [],
   "source": [
    "# Modify the values below to give the quadcopter a different starting position.\n",
    "runtime = 5.                                     # time limit of the episode\n",
    "init_pose = np.array([0., 0., 10., 0., 0., 0.])  # initial pose\n",
    "init_velocities = np.array([0., 0., 0.])         # initial velocities\n",
    "init_angle_velocities = np.array([0., 0., 0.])   # initial angle velocities\n",
    "file_output = 'data.txt'                         # file name for saved results\n",
    "\n",
    "# Setup\n",
    "task = Task(init_pose, init_velocities, init_angle_velocities, runtime)\n",
    "agent = Basic_Agent(task)\n",
    "done = False\n",
    "labels = ['time', 'x', 'y', 'z', 'phi', 'theta', 'psi', 'x_velocity',\n",
    "          'y_velocity', 'z_velocity', 'phi_velocity', 'theta_velocity',\n",
    "          'psi_velocity', 'rotor_speed1', 'rotor_speed2', 'rotor_speed3', 'rotor_speed4']\n",
    "results = {x : [] for x in labels}\n",
    "\n",
    "# Run the simulation, and save the results.\n",
    "with open(file_output, 'w') as csvfile:\n",
    "    writer = csv.writer(csvfile)\n",
    "    writer.writerow(labels)\n",
    "    while True:\n",
    "        rotor_speeds = agent.act()\n",
    "        _, _, done = task.step(rotor_speeds)\n",
    "        to_write = [task.sim.time] + list(task.sim.pose) + list(task.sim.v) + list(task.sim.angular_v) + list(rotor_speeds)\n",
    "        for ii in range(len(labels)):\n",
    "            results[labels[ii]].append(to_write[ii])\n",
    "        writer.writerow(to_write)\n",
    "        if done:\n",
    "            break"
   ]
  },
  {
   "cell_type": "markdown",
   "metadata": {},
   "source": [
    "Run the code cell below to visualize how the position of the quadcopter evolved during the simulation."
   ]
  },
  {
   "cell_type": "code",
   "execution_count": 4,
   "metadata": {},
   "outputs": [
    {
     "data": {
      "image/png": "[encoded data removed]",
      "text/plain": [
       "<Figure size 432x288 with 1 Axes>"
      ]
     },
     "metadata": {
      "needs_background": "light"
     },
     "output_type": "display_data"
    }
   ],
   "source": [
    "plt.plot(results['time'], results['x'], label='x')\n",
    "plt.plot(results['time'], results['y'], label='y')\n",
    "plt.plot(results['time'], results['z'], label='z')\n",
    "plt.legend()\n",
    "_ = plt.ylim()"
   ]
  },
  {
   "cell_type": "markdown",
   "metadata": {},
   "source": [
    "The next code cell visualizes the velocity of the quadcopter."
   ]
  },
  {
   "cell_type": "code",
   "execution_count": 5,
   "metadata": {},
   "outputs": [
    {
     "data": {
      "image/png": "[encoded data removed]",
      "text/plain": [
       "<Figure size 432x288 with 1 Axes>"
      ]
     },
     "metadata": {
      "needs_background": "light"
     },
     "output_type": "display_data"
    }
   ],
   "source": [
    "plt.plot(results['time'], results['x_velocity'], label='x_hat')\n",
    "plt.plot(results['time'], results['y_velocity'], label='y_hat')\n",
    "plt.plot(results['time'], results['z_velocity'], label='z_hat')\n",
    "plt.legend()\n",
    "_ = plt.ylim()"
   ]
  },
  {
   "cell_type": "markdown",
   "metadata": {},
   "source": [
    "Next, you can plot the Euler angles (the rotation of the quadcopter over the $x$-, $y$-, and $z$-axes),"
   ]
  },
  {
   "cell_type": "code",
   "execution_count": 6,
   "metadata": {},
   "outputs": [
    {
     "data": {
      "image/png": "[encoded data removed]",
      "text/plain": [
       "<Figure size 432x288 with 1 Axes>"
      ]
     },
     "metadata": {
      "needs_background": "light"
     },
     "output_type": "display_data"
    }
   ],
   "source": [
    "plt.plot(results['time'], results['phi'], label='phi')\n",
    "plt.plot(results['time'], results['theta'], label='theta')\n",
    "plt.plot(results['time'], results['psi'], label='psi')\n",
    "plt.legend()\n",
    "_ = plt.ylim()"
   ]
  },
  {
   "cell_type": "markdown",
   "metadata": {},
   "source": [
    "before plotting the velocities (in radians per second) corresponding to each of the Euler angles."
   ]
  },
  {
   "cell_type": "code",
   "execution_count": 7,
   "metadata": {},
   "outputs": [
    {
     "data": {
      "image/png": "[encoded data removed]",
      "text/plain": [
       "<Figure size 432x288 with 1 Axes>"
      ]
     },
     "metadata": {
      "needs_background": "light"
     },
     "output_type": "display_data"
    }
   ],
   "source": [
    "plt.plot(results['time'], results['phi_velocity'], label='phi_velocity')\n",
    "plt.plot(results['time'], results['theta_velocity'], label='theta_velocity')\n",
    "plt.plot(results['time'], results['psi_velocity'], label='psi_velocity')\n",
    "plt.legend()\n",
    "_ = plt.ylim()"
   ]
  },
  {
   "cell_type": "markdown",
   "metadata": {},
   "source": [
    "Finally, you can use the code cell below to print the agent's choice of actions.  "
   ]
  },
  {
   "cell_type": "code",
   "execution_count": 8,
   "metadata": {},
   "outputs": [
    {
     "data": {
      "image/png": "[encoded data removed]",
      "text/plain": [
       "<Figure size 432x288 with 1 Axes>"
      ]
     },
     "metadata": {
      "needs_background": "light"
     },
     "output_type": "display_data"
    }
   ],
   "source": [
    "plt.plot(results['time'], results['rotor_speed1'], label='Rotor 1 revolutions / second')\n",
    "plt.plot(results['time'], results['rotor_speed2'], label='Rotor 2 revolutions / second')\n",
    "plt.plot(results['time'], results['rotor_speed3'], label='Rotor 3 revolutions / second')\n",
    "plt.plot(results['time'], results['rotor_speed4'], label='Rotor 4 revolutions / second')\n",
    "plt.legend()\n",
    "_ = plt.ylim()"
   ]
  },
  {
   "cell_type": "markdown",
   "metadata": {},
   "source": [
    "When specifying a task, you will derive the environment state from the simulator.  Run the code cell below to print the values of the following variables at the end of the simulation:\n",
    "- `task.sim.pose` (the position of the quadcopter in ($x,y,z$) dimensions and the Euler angles),\n",
    "- `task.sim.v` (the velocity of the quadcopter in ($x,y,z$) dimensions), and\n",
    "- `task.sim.angular_v` (radians/second for each of the three Euler angles)."
   ]
  },
  {
   "cell_type": "code",
   "execution_count": 9,
   "metadata": {},
   "outputs": [
    {
     "name": "stdout",
     "output_type": "stream",
     "text": [
      "[ 1.61081809  4.42710282 29.45512887  0.04050865  6.23352756  0.        ]\n",
      "[0.30119657 2.58303841 6.318108  ]\n",
      "[-0.04810474 -0.05815217  0.        ]\n"
     ]
    }
   ],
   "source": [
    "# the pose, velocity, and angular velocity of the quadcopter at the end of the episode\n",
    "print(task.sim.pose)\n",
    "print(task.sim.v)\n",
    "print(task.sim.angular_v)"
   ]
  },
  {
   "cell_type": "markdown",
   "metadata": {},
   "source": [
    "In the sample task in `task.py`, we use the 6-dimensional pose of the quadcopter to construct the state of the environment at each timestep.  However, when amending the task for your purposes, you are welcome to expand the size of the state vector by including the velocity information.  You can use any combination of the pose, velocity, and angular velocity - feel free to tinker here, and construct the state to suit your task.\n",
    "\n",
    "## The Task\n",
    "\n",
    "A sample task has been provided for you in `task.py`.  Open this file in a new window now. \n",
    "\n",
    "The `__init__()` method is used to initialize several variables that are needed to specify the task.  \n",
    "- The simulator is initialized as an instance of the `PhysicsSim` class (from `physics_sim.py`).  \n",
    "- Inspired by the methodology in the original DDPG paper, we make use of action repeats.  For each timestep of the agent, we step the simulation `action_repeats` timesteps.  If you are not familiar with action repeats, please read the **Results** section in [the DDPG paper](https://arxiv.org/abs/1509.02971).\n",
    "- We set the number of elements in the state vector.  For the sample task, we only work with the 6-dimensional pose information.  To set the size of the state (`state_size`), we must take action repeats into account.  \n",
    "- The environment will always have a 4-dimensional action space, with one entry for each rotor (`action_size=4`). You can set the minimum (`action_low`) and maximum (`action_high`) values of each entry here.\n",
    "- The sample task in this provided file is for the agent to reach a target position.  We specify that target position as a variable.\n",
    "\n",
    "The `reset()` method resets the simulator.  The agent should call this method every time the episode ends.  You can see an example of this in the code cell below.\n",
    "\n",
    "The `step()` method is perhaps the most important.  It accepts the agent's choice of action `rotor_speeds`, which is used to prepare the next state to pass on to the agent.  Then, the reward is computed from `get_reward()`.  The episode is considered done if the time limit has been exceeded, or the quadcopter has travelled outside of the bounds of the simulation.\n",
    "\n",
    "In the next section, you will learn how to test the performance of an agent on this task."
   ]
  },
  {
   "cell_type": "markdown",
   "metadata": {},
   "source": [
    "## The Agent\n",
    "\n",
    "The sample agent given in `agents/policy_search.py` uses a very simplistic linear policy to directly compute the action vector as a dot product of the state vector and a matrix of weights. Then, it randomly perturbs the parameters by adding some Gaussian noise, to produce a different policy. Based on the average reward obtained in each episode (`score`), it keeps track of the best set of parameters found so far, how the score is changing, and accordingly tweaks a scaling factor to widen or tighten the noise.\n",
    "\n",
    "Run the code cell below to see how the agent performs on the sample task."
   ]
  },
  {
   "cell_type": "code",
   "execution_count": 10,
   "metadata": {},
   "outputs": [
    {
     "name": "stdout",
     "output_type": "stream",
     "text": [
      "Episode = 1000, score =  -1.216 (best =   0.180), noise_scale = 3.2555"
     ]
    }
   ],
   "source": [
    "num_episodes = 1000\n",
    "target_pos = np.array([0., 0., 10.])\n",
    "task = Task(target_pos=target_pos)\n",
    "agent = PolicySearch_Agent(task) \n",
    "\n",
    "for i_episode in range(1, num_episodes+1):\n",
    "    state = agent.reset_episode() # start a new episode\n",
    "    while True:\n",
    "        action = agent.act(state) \n",
    "        next_state, reward, done = task.step(action)\n",
    "        agent.step(reward, done)\n",
    "        state = next_state   \n",
    "             \n",
    "        if done:\n",
    "            print(\"\\rEpisode = {:4d}, score = {:7.3f} (best = {:7.3f}), noise_scale = {}\".format(\n",
    "                i_episode, agent.score, agent.best_score, agent.noise_scale), end=\"\")  # [debug]\n",
    "            break\n",
    "    sys.stdout.flush()"
   ]
  },
  {
   "cell_type": "markdown",
   "metadata": {},
   "source": [
    "This agent should perform very poorly on this task.  And that's where you come in!"
   ]
  },
  {
   "cell_type": "markdown",
   "metadata": {
    "collapsed": true
   },
   "source": [
    "## Define the Task, Design the Agent, and Train Your Agent!\n",
    "\n",
    "Amend `task.py` to specify a task of your choosing.  If you're unsure what kind of task to specify, you may like to teach your quadcopter to takeoff, hover in place, land softly, or reach a target pose.  \n",
    "\n",
    "After specifying your task, use the sample agent in `agents/policy_search.py` as a template to define your own agent in `agents/agent.py`.  You can borrow whatever you need from the sample agent, including ideas on how you might modularize your code (using helper methods like `act()`, `learn()`, `reset_episode()`, etc.).\n",
    "\n",
    "Note that it is **highly unlikely** that the first agent and task that you specify will learn well.  You will likely have to tweak various hyperparameters and the reward function for your task until you arrive at reasonably good behavior.\n",
    "\n",
    "As you develop your agent, it's important to keep an eye on how it's performing. Use the code above as inspiration to build in a mechanism to log/save the total rewards obtained in each episode to file.  If the episode rewards are gradually increasing, this is an indication that your agent is learning."
   ]
  },
  {
   "cell_type": "code",
   "execution_count": 14,
   "metadata": {},
   "outputs": [
    {
     "name": "stdout",
     "output_type": "stream",
     "text": [
      "\n",
      "--- Actor ---\n",
      "How much layers has the model?  15\n",
      "--- Build model summary of DQNetwork: ---\n",
      "_________________________________________________________________\n",
      "Layer (type)                 Output Shape              Param #   \n",
      "=================================================================\n",
      "dense_23 (Dense)             (None, 16)                304       \n",
      "_________________________________________________________________\n",
      "dense_24 (Dense)             (None, 32)                544       \n",
      "_________________________________________________________________\n",
      "batch_normalization_19 (Batc (None, 32)                128       \n",
      "_________________________________________________________________\n",
      "activation_21 (Activation)   (None, 32)                0         \n",
      "_________________________________________________________________\n",
      "dropout_19 (Dropout)         (None, 32)                0         \n",
      "_________________________________________________________________\n",
      "dense_25 (Dense)             (None, 64)                2112      \n",
      "_________________________________________________________________\n",
      "batch_normalization_20 (Batc (None, 64)                256       \n",
      "_________________________________________________________________\n",
      "activation_22 (Activation)   (None, 64)                0         \n",
      "_________________________________________________________________\n",
      "dropout_20 (Dropout)         (None, 64)                0         \n",
      "_________________________________________________________________\n",
      "dense_26 (Dense)             (None, 128)               8320      \n",
      "_________________________________________________________________\n",
      "batch_normalization_21 (Batc (None, 128)               512       \n",
      "_________________________________________________________________\n",
      "activation_23 (Activation)   (None, 128)               0         \n",
      "_________________________________________________________________\n",
      "dropout_21 (Dropout)         (None, 128)               0         \n",
      "_________________________________________________________________\n",
      "dense_27 (Dense)             (None, 4)                 516       \n",
      "_________________________________________________________________\n",
      "output_actions (Lambda)      (None, 4)                 0         \n",
      "=================================================================\n",
      "Total params: 12,692\n",
      "Trainable params: 12,244\n",
      "Non-trainable params: 448\n",
      "_________________________________________________________________\n",
      "\n",
      "--- Actor ---\n",
      "How much layers has the model?  15\n",
      "--- Build model summary of TargetNetwork: ---\n",
      "_________________________________________________________________\n",
      "Layer (type)                 Output Shape              Param #   \n",
      "=================================================================\n",
      "dense_28 (Dense)             (None, 16)                304       \n",
      "_________________________________________________________________\n",
      "dense_29 (Dense)             (None, 32)                544       \n",
      "_________________________________________________________________\n",
      "batch_normalization_22 (Batc (None, 32)                128       \n",
      "_________________________________________________________________\n",
      "activation_24 (Activation)   (None, 32)                0         \n",
      "_________________________________________________________________\n",
      "dropout_22 (Dropout)         (None, 32)                0         \n",
      "_________________________________________________________________\n",
      "dense_30 (Dense)             (None, 64)                2112      \n",
      "_________________________________________________________________\n",
      "batch_normalization_23 (Batc (None, 64)                256       \n",
      "_________________________________________________________________\n",
      "activation_25 (Activation)   (None, 64)                0         \n",
      "_________________________________________________________________\n",
      "dropout_23 (Dropout)         (None, 64)                0         \n",
      "_________________________________________________________________\n",
      "dense_31 (Dense)             (None, 128)               8320      \n",
      "_________________________________________________________________\n",
      "batch_normalization_24 (Batc (None, 128)               512       \n",
      "_________________________________________________________________\n",
      "activation_26 (Activation)   (None, 128)               0         \n",
      "_________________________________________________________________\n",
      "dropout_24 (Dropout)         (None, 128)               0         \n",
      "_________________________________________________________________\n",
      "dense_32 (Dense)             (None, 4)                 516       \n",
      "_________________________________________________________________\n",
      "output_actions (Lambda)      (None, 4)                 0         \n",
      "=================================================================\n",
      "Total params: 12,692\n",
      "Trainable params: 12,244\n",
      "Non-trainable params: 448\n",
      "_________________________________________________________________\n",
      "\n",
      "--- Critic ---\n",
      "\n",
      "--- Build model summary of DQNetwork: ---\n",
      "__________________________________________________________________________________________________\n",
      "Layer (type)                    Output Shape         Param #     Connected to                     \n",
      "==================================================================================================\n",
      "states (InputLayer)             (None, 18)           0                                            \n",
      "__________________________________________________________________________________________________\n",
      "actions (InputLayer)            (None, 4)            0                                            \n",
      "__________________________________________________________________________________________________\n",
      "dense_33 (Dense)                (None, 32)           608         states[0][0]                     \n",
      "__________________________________________________________________________________________________\n",
      "dense_36 (Dense)                (None, 32)           160         actions[0][0]                    \n",
      "__________________________________________________________________________________________________\n",
      "batch_normalization_25 (BatchNo (None, 32)           128         dense_33[0][0]                   \n",
      "__________________________________________________________________________________________________\n",
      "batch_normalization_28 (BatchNo (None, 32)           128         dense_36[0][0]                   \n",
      "__________________________________________________________________________________________________\n",
      "activation_27 (Activation)      (None, 32)           0           batch_normalization_25[0][0]     \n",
      "__________________________________________________________________________________________________\n",
      "activation_30 (Activation)      (None, 32)           0           batch_normalization_28[0][0]     \n",
      "__________________________________________________________________________________________________\n",
      "dropout_25 (Dropout)            (None, 32)           0           activation_27[0][0]              \n",
      "__________________________________________________________________________________________________\n",
      "dropout_28 (Dropout)            (None, 32)           0           activation_30[0][0]              \n",
      "__________________________________________________________________________________________________\n",
      "dense_34 (Dense)                (None, 64)           2112        dropout_25[0][0]                 \n",
      "__________________________________________________________________________________________________\n",
      "dense_37 (Dense)                (None, 64)           2112        dropout_28[0][0]                 \n",
      "__________________________________________________________________________________________________\n",
      "batch_normalization_26 (BatchNo (None, 64)           256         dense_34[0][0]                   \n",
      "__________________________________________________________________________________________________\n",
      "batch_normalization_29 (BatchNo (None, 64)           256         dense_37[0][0]                   \n",
      "__________________________________________________________________________________________________\n",
      "activation_28 (Activation)      (None, 64)           0           batch_normalization_26[0][0]     \n",
      "__________________________________________________________________________________________________\n",
      "activation_31 (Activation)      (None, 64)           0           batch_normalization_29[0][0]     \n",
      "__________________________________________________________________________________________________\n",
      "dropout_26 (Dropout)            (None, 64)           0           activation_28[0][0]              \n",
      "__________________________________________________________________________________________________\n",
      "dropout_29 (Dropout)            (None, 64)           0           activation_31[0][0]              \n",
      "__________________________________________________________________________________________________\n",
      "dense_35 (Dense)                (None, 128)          8320        dropout_26[0][0]                 \n",
      "__________________________________________________________________________________________________\n",
      "dense_38 (Dense)                (None, 128)          8320        dropout_29[0][0]                 \n",
      "__________________________________________________________________________________________________\n",
      "batch_normalization_27 (BatchNo (None, 128)          512         dense_35[0][0]                   \n",
      "__________________________________________________________________________________________________\n",
      "batch_normalization_30 (BatchNo (None, 128)          512         dense_38[0][0]                   \n",
      "__________________________________________________________________________________________________\n",
      "activation_29 (Activation)      (None, 128)          0           batch_normalization_27[0][0]     \n",
      "__________________________________________________________________________________________________\n",
      "activation_32 (Activation)      (None, 128)          0           batch_normalization_30[0][0]     \n",
      "__________________________________________________________________________________________________\n",
      "dropout_27 (Dropout)            (None, 128)          0           activation_29[0][0]              \n",
      "__________________________________________________________________________________________________\n",
      "dropout_30 (Dropout)            (None, 128)          0           activation_32[0][0]              \n",
      "__________________________________________________________________________________________________\n",
      "add_3 (Add)                     (None, 128)          0           dropout_27[0][0]                 \n",
      "                                                                 dropout_30[0][0]                 \n",
      "__________________________________________________________________________________________________\n",
      "activation_33 (Activation)      (None, 128)          0           add_3[0][0]                      \n",
      "__________________________________________________________________________________________________\n",
      "q_vals (Dense)                  (None, 1)            129         activation_33[0][0]              \n",
      "==================================================================================================\n",
      "Total params: 23,553\n",
      "Trainable params: 22,657\n",
      "Non-trainable params: 896\n",
      "__________________________________________________________________________________________________\n"
     ]
    },
    {
     "name": "stdout",
     "output_type": "stream",
     "text": [
      "\n",
      "--- Critic ---\n",
      "\n",
      "--- Build model summary of TargetNetwork: ---\n",
      "__________________________________________________________________________________________________\n",
      "Layer (type)                    Output Shape         Param #     Connected to                     \n",
      "==================================================================================================\n",
      "states (InputLayer)             (None, 18)           0                                            \n",
      "__________________________________________________________________________________________________\n",
      "actions (InputLayer)            (None, 4)            0                                            \n",
      "__________________________________________________________________________________________________\n",
      "dense_39 (Dense)                (None, 32)           608         states[0][0]                     \n",
      "__________________________________________________________________________________________________\n",
      "dense_42 (Dense)                (None, 32)           160         actions[0][0]                    \n",
      "__________________________________________________________________________________________________\n",
      "batch_normalization_31 (BatchNo (None, 32)           128         dense_39[0][0]                   \n",
      "__________________________________________________________________________________________________\n",
      "batch_normalization_34 (BatchNo (None, 32)           128         dense_42[0][0]                   \n",
      "__________________________________________________________________________________________________\n",
      "activation_34 (Activation)      (None, 32)           0           batch_normalization_31[0][0]     \n",
      "__________________________________________________________________________________________________\n",
      "activation_37 (Activation)      (None, 32)           0           batch_normalization_34[0][0]     \n",
      "__________________________________________________________________________________________________\n",
      "dropout_31 (Dropout)            (None, 32)           0           activation_34[0][0]              \n",
      "__________________________________________________________________________________________________\n",
      "dropout_34 (Dropout)            (None, 32)           0           activation_37[0][0]              \n",
      "__________________________________________________________________________________________________\n",
      "dense_40 (Dense)                (None, 64)           2112        dropout_31[0][0]                 \n",
      "__________________________________________________________________________________________________\n",
      "dense_43 (Dense)                (None, 64)           2112        dropout_34[0][0]                 \n",
      "__________________________________________________________________________________________________\n",
      "batch_normalization_32 (BatchNo (None, 64)           256         dense_40[0][0]                   \n",
      "__________________________________________________________________________________________________\n",
      "batch_normalization_35 (BatchNo (None, 64)           256         dense_43[0][0]                   \n",
      "__________________________________________________________________________________________________\n",
      "activation_35 (Activation)      (None, 64)           0           batch_normalization_32[0][0]     \n",
      "__________________________________________________________________________________________________\n",
      "activation_38 (Activation)      (None, 64)           0           batch_normalization_35[0][0]     \n",
      "__________________________________________________________________________________________________\n",
      "dropout_32 (Dropout)            (None, 64)           0           activation_35[0][0]              \n",
      "__________________________________________________________________________________________________\n",
      "dropout_35 (Dropout)            (None, 64)           0           activation_38[0][0]              \n",
      "__________________________________________________________________________________________________\n",
      "dense_41 (Dense)                (None, 128)          8320        dropout_32[0][0]                 \n",
      "__________________________________________________________________________________________________\n",
      "dense_44 (Dense)                (None, 128)          8320        dropout_35[0][0]                 \n",
      "__________________________________________________________________________________________________\n",
      "batch_normalization_33 (BatchNo (None, 128)          512         dense_41[0][0]                   \n",
      "__________________________________________________________________________________________________\n",
      "batch_normalization_36 (BatchNo (None, 128)          512         dense_44[0][0]                   \n",
      "__________________________________________________________________________________________________\n",
      "activation_36 (Activation)      (None, 128)          0           batch_normalization_33[0][0]     \n",
      "__________________________________________________________________________________________________\n",
      "activation_39 (Activation)      (None, 128)          0           batch_normalization_36[0][0]     \n",
      "__________________________________________________________________________________________________\n",
      "dropout_33 (Dropout)            (None, 128)          0           activation_36[0][0]              \n",
      "__________________________________________________________________________________________________\n",
      "dropout_36 (Dropout)            (None, 128)          0           activation_39[0][0]              \n",
      "__________________________________________________________________________________________________\n",
      "add_4 (Add)                     (None, 128)          0           dropout_33[0][0]                 \n",
      "                                                                 dropout_36[0][0]                 \n",
      "__________________________________________________________________________________________________\n",
      "activation_40 (Activation)      (None, 128)          0           add_4[0][0]                      \n",
      "__________________________________________________________________________________________________\n",
      "q_vals (Dense)                  (None, 1)            129         activation_40[0][0]              \n",
      "==================================================================================================\n",
      "Total params: 23,553\n",
      "Trainable params: 22,657\n",
      "Non-trainable params: 896\n",
      "__________________________________________________________________________________________________\n",
      "Episode: 1000, total reward: 15455.724, best reward: 19859.384"
     ]
    }
   ],
   "source": [
    "## TODO: Train your agent here.\n",
    "\n",
    "# Default initialisation is:\n",
    "# runtime = 5.                                     # time limit of the episode\n",
    "# init_pose = np.array([0., 0., 10., 0., 0., 0.])  # initial pose\n",
    "# init_velocities = np.array([0., 0., 0.])         # initial velocities\n",
    "# init_angle_velocities = np.array([0., 0., 0.])   # initial angle velocities\n",
    "take_off_file_output = 'take-off_DDPG_data.csv'    # file name for saved results\n",
    "\n",
    "#\n",
    "# Setup\n",
    "#\n",
    "num_episodes = 1000 \n",
    "init_velocities = np.array([0., 0., 0.])\n",
    "\n",
    "# status information for different configuration types \"default\", \"mod\"\n",
    "#status = \"default\"\n",
    "status = \"mod\"\n",
    "params = None\n",
    "\n",
    "if status is \"mod\":\n",
    "    # change DDPG agent parameters used for learning\n",
    "    \n",
    "    # technical from task class\n",
    "    # we are interested in the z position, so, the psi velocity is relevant\n",
    "    init_velocities = np.array([0., 0., 10.])  # first try: [0., 0., 10.], second: [0., 0., 20.], third [0., 0., 10.]\n",
    "    \n",
    "    # from agent initialisation:\n",
    "    #    - alpha: actor learning rate\n",
    "    #    - beta: critic learning rate\n",
    "    #    - gamma: discount value, for termination function: final state with gamma(s)=0\n",
    "    #    - tau: used for smooth shifting from the local prediction models to the target models (soft update of targets)\n",
    "    #    - mu, theta, sigma: for creation of Ornstein-Uhlenbeck noise instance, part of exploration policy creation\n",
    "    #    - max_size: memory buffer size\n",
    "    params = {'alpha' : 0.0001,\n",
    "              'beta'  : 0.001,\n",
    "              'gamma' : 0.9,\n",
    "              'tau'   : 0.01,\n",
    "              'mu'    : 0.3,\n",
    "              'theta' : 0.15,\n",
    "              'sigma' : 0.3,\n",
    "              'max_size' : 100000}\n",
    "    \n",
    "# for task    \n",
    "target_pos = np.array([0., 0., 30.])               # target z position for take-off task (tested 20, 30)\n",
    "task_name = \"take-off\"\n",
    "task = Task(target_pos=target_pos, init_velocities=init_velocities, name=task_name)       \n",
    "\n",
    "# for agent\n",
    "type_name = \"DDPG\"\n",
    "agent = Agent(task, type_name, params).get_agent()  # returns DDPG_agent instance\n",
    "labels = ['episode','time', 'x', 'y', 'z', 'phi', 'theta', 'psi', 'x_velocity',\n",
    "          'y_velocity', 'z_velocity', 'phi_velocity', 'theta_velocity',\n",
    "          'psi_velocity', 'rotor_speed1', 'rotor_speed2', 'rotor_speed3', 'rotor_speed4']\n",
    "done = False\n",
    "\n",
    "# Result log file\n",
    "results = {x : [] for x in labels}\n",
    "# Total rewards\n",
    "total_rewards = []\n",
    "# Best reward\n",
    "best_reward = 0\n",
    "\n",
    "#\n",
    "# Run the simulation, and save the results.\n",
    "#\n",
    "with open(take_off_file_output, 'w') as csvfile:\n",
    "    writer = csv.writer(csvfile)\n",
    "    writer.writerow(labels)\n",
    "    \n",
    "    for i_episode in range(1, num_episodes+1):\n",
    "        state = agent.reset_episode() # start a new episode\n",
    "        total_reward = 0\n",
    "        while True:\n",
    "            action = agent.act(state) \n",
    "            next_state, reward, done = task.step(action)\n",
    "        \n",
    "            # calculation of total_reward\n",
    "            total_reward += reward\n",
    "            # all info for the task data csv file to have the choice of further data analysis, not only reward\n",
    "            to_write = [i_episode] + [task.sim.time] + list(task.sim.pose)+ list(task.sim.v) + \\\n",
    "                       list(task.sim.angular_v) + list(rotor_speeds)\n",
    "            agent.step(action, reward, next_state, done)\n",
    "            state = next_state\n",
    "            \n",
    "            for i_label in range(len(labels)):\n",
    "                results[labels[i_label]].append(to_write[i_label])\n",
    "                writer.writerow(to_write)\n",
    "        \n",
    "            if done:\n",
    "                if (total_reward > best_reward):\n",
    "                    best_reward = total_reward\n",
    "                \n",
    "                total_rewards.append(total_reward)\n",
    "                print(\"\\rEpisode: {}, total reward: {:7.3f}, best reward: {:7.3f}\".format(i_episode,\n",
    "                                                                                          total_reward, best_reward),\n",
    "                      end=\"\")  # [debug]\n",
    "                #print(to_write)\n",
    "                break\n",
    "    sys.stdout.flush()"
   ]
  },
  {
   "cell_type": "code",
   "execution_count": 15,
   "metadata": {},
   "outputs": [
    {
     "name": "stdout",
     "output_type": "stream",
     "text": [
      "---  Take-off: Total Rewards dataframe ---\n",
      "reward maximum: total_reward    19859.383777\n",
      "dtype: float64\n",
      "its index: total_reward    283\n",
      "dtype: int64\n"
     ]
    }
   ],
   "source": [
    "# create new dataframe for total reward  of task take-off\n",
    "rewards_dict = {'total_reward' : total_rewards}\n",
    "rewards_df = pd.DataFrame(data = rewards_dict)\n",
    "print(\"---  Take-off: Total Rewards dataframe ---\")\n",
    "print(\"reward maximum: {}\\nits index: {}\".format(rewards_df.max(), rewards_df.idxmax()))\n",
    "\n",
    "# store the resulting dataframe of the rewards information and their configuration\n",
    "# first case: default config of DDPG agent\n",
    "if status is \"default\":\n",
    "    defaults_df = pd.DataFrame({'alpha' : 0.0001,\n",
    "                            'beta'  : 0.001,\n",
    "                            'gamma' : 0.9,\n",
    "                            'tau'   : 0.125 ,\n",
    "                            'mu'    : 0.2,\n",
    "                            'theta' : 0.15,\n",
    "                            'sigma' : 0.2,\n",
    "                            'max_size' : 100000\n",
    "                            }, index=[0])\n",
    "    defaults_df.to_csv(\"./results/default_DDPG_config.csv\", index=False)\n",
    "    rewards_df.to_csv(\"./results/take-off_DDPG_rewards_1000episodes_defaultConfig_initV-0010.csv\", index=False)\n",
    "elif status is \"mod\":\n",
    "    modConfig_1_df = pd.DataFrame(params, index=[0])\n",
    "    modConfig_1_df.to_csv(\"./results/mod_DDPG_config_3.csv\", index=False)\n",
    "    rewards_df.to_csv(\"./results/take-off_DDPG_rewards_1000episodes_modConfig3_initV-0010.csv\", index=False)\n"
   ]
  },
  {
   "cell_type": "code",
   "execution_count": 16,
   "metadata": {},
   "outputs": [
    {
     "name": "stdout",
     "output_type": "stream",
     "text": [
      "[-10.60563991 -55.98351995  43.11136514   3.56002129   2.08841222\n",
      "   0.        ]\n",
      "[ -0.80110269 -20.41945122   3.00123015]\n",
      "[ 28.83635134 -28.84189478   0.        ]\n"
     ]
    }
   ],
   "source": [
    "# the pose, velocity, and angular velocity of the quadcopter at the end of the 'take-off' training\n",
    "print(task.sim.pose)\n",
    "print(task.sim.v)\n",
    "print(task.sim.angular_v)"
   ]
  },
  {
   "cell_type": "markdown",
   "metadata": {
    "collapsed": true
   },
   "source": [
    "## Plot the Rewards\n",
    "\n",
    "Once you are satisfied with your performance, plot the episode rewards, either from a single run, or averaged over multiple runs. "
   ]
  },
  {
   "cell_type": "code",
   "execution_count": null,
   "metadata": {},
   "outputs": [],
   "source": [
    "# My note:\n",
    "# for future version it shall be possible to do further analysis about reward and technical data\n",
    "# because of project deadline: this additional, not required feature could not be realised now\n",
    "# \n",
    "# e.g. having the technical data for each episode, a new dataframe object with their average info\n",
    "# together with the associated total reward of this episode could be used\n",
    "\n",
    "# specific plot utility for csv files\n",
    "#def plot_stats(csv_filename, columns=['total_reward'], **kwargs):\n",
    "#    \"\"\"Plot specified columns from CSV file.\"\"\"\n",
    "#    df_stats = pd.read_csv(csv_filename)\n",
    "#    df_stats[columns].plot(**kwargs)\n",
    "\n",
    "# Load the csv file 'take-off_DDPG_data.csv' which is part of the same directory as the notebook file\n",
    "#try:\n",
    "#    df_takeoff = pd.read_csv('take-off_DDPG_data.csv')\n",
    "#except FileNotFoundError:\n",
    "#    print(\"The csv file 'take-off_DDPG_data.csv' does not exist in the given directory. No analysis possible.\")\n"
   ]
  },
  {
   "cell_type": "code",
   "execution_count": 17,
   "metadata": {},
   "outputs": [
    {
     "data": {
      "text/plain": [
       "<matplotlib.axes._subplots.AxesSubplot at 0x9b60698e10>"
      ]
     },
     "execution_count": 17,
     "metadata": {},
     "output_type": "execute_result"
    },
    {
     "data": {
      "image/png": "[encoded data removed]",
      "text/plain": [
       "<Figure size 432x288 with 1 Axes>"
      ]
     },
     "metadata": {
      "needs_background": "light"
     },
     "output_type": "display_data"
    }
   ],
   "source": [
    "## TODO: Plot the episode rewards.\n",
    " \n",
    "# new dataframe of total_rewards data is used for plotting\n",
    "# x = episodes, y = reward amount\n",
    "rewards_df[['total_reward']].plot(title='Episode Rewards')"
   ]
  },
  {
   "cell_type": "code",
   "execution_count": 24,
   "metadata": {},
   "outputs": [
    {
     "data": {
      "text/html": [
       "<div>\n",
       "<style scoped>\n",
       "    .dataframe tbody tr th:only-of-type {\n",
       "        vertical-align: middle;\n",
       "    }\n",
       "\n",
       "    .dataframe tbody tr th {\n",
       "        vertical-align: top;\n",
       "    }\n",
       "\n",
       "    .dataframe thead th {\n",
       "        text-align: right;\n",
       "    }\n",
       "</style>\n",
       "<table border=\"1\" class=\"dataframe\">\n",
       "  <thead>\n",
       "    <tr style=\"text-align: right;\">\n",
       "      <th></th>\n",
       "      <th>total_reward</th>\n",
       "    </tr>\n",
       "  </thead>\n",
       "  <tbody>\n",
       "    <tr>\n",
       "      <th>count</th>\n",
       "      <td>10.000000</td>\n",
       "    </tr>\n",
       "    <tr>\n",
       "      <th>mean</th>\n",
       "      <td>14744.469514</td>\n",
       "    </tr>\n",
       "    <tr>\n",
       "      <th>std</th>\n",
       "      <td>1034.778673</td>\n",
       "    </tr>\n",
       "    <tr>\n",
       "      <th>min</th>\n",
       "      <td>12472.303874</td>\n",
       "    </tr>\n",
       "    <tr>\n",
       "      <th>25%</th>\n",
       "      <td>14450.105763</td>\n",
       "    </tr>\n",
       "    <tr>\n",
       "      <th>50%</th>\n",
       "      <td>14924.419831</td>\n",
       "    </tr>\n",
       "    <tr>\n",
       "      <th>75%</th>\n",
       "      <td>15411.353282</td>\n",
       "    </tr>\n",
       "    <tr>\n",
       "      <th>max</th>\n",
       "      <td>15958.684687</td>\n",
       "    </tr>\n",
       "  </tbody>\n",
       "</table>\n",
       "</div>"
      ],
      "text/plain": [
       "       total_reward\n",
       "count     10.000000\n",
       "mean   14744.469514\n",
       "std     1034.778673\n",
       "min    12472.303874\n",
       "25%    14450.105763\n",
       "50%    14924.419831\n",
       "75%    15411.353282\n",
       "max    15958.684687"
      ]
     },
     "execution_count": 24,
     "metadata": {},
     "output_type": "execute_result"
    }
   ],
   "source": [
    "# Calculation of mean reward values of the final rewards dataframe instance\n",
    "\n",
    "# Rewards mean of the last 10 episodes\n",
    "last_10_reward_df = rewards_df.tail(10)\n",
    "#print(\"The mean value of the last 10 episodes is: {:7.3f}\".format(last_10_reward_df.mean(axis=0)))\n",
    "last_10_reward_df.describe()"
   ]
  },
  {
   "cell_type": "code",
   "execution_count": 23,
   "metadata": {},
   "outputs": [
    {
     "data": {
      "text/html": [
       "<div>\n",
       "<style scoped>\n",
       "    .dataframe tbody tr th:only-of-type {\n",
       "        vertical-align: middle;\n",
       "    }\n",
       "\n",
       "    .dataframe tbody tr th {\n",
       "        vertical-align: top;\n",
       "    }\n",
       "\n",
       "    .dataframe thead th {\n",
       "        text-align: right;\n",
       "    }\n",
       "</style>\n",
       "<table border=\"1\" class=\"dataframe\">\n",
       "  <thead>\n",
       "    <tr style=\"text-align: right;\">\n",
       "      <th></th>\n",
       "      <th>total_reward</th>\n",
       "    </tr>\n",
       "  </thead>\n",
       "  <tbody>\n",
       "    <tr>\n",
       "      <th>count</th>\n",
       "      <td>50.000000</td>\n",
       "    </tr>\n",
       "    <tr>\n",
       "      <th>mean</th>\n",
       "      <td>14871.565011</td>\n",
       "    </tr>\n",
       "    <tr>\n",
       "      <th>std</th>\n",
       "      <td>1089.482163</td>\n",
       "    </tr>\n",
       "    <tr>\n",
       "      <th>min</th>\n",
       "      <td>12472.303874</td>\n",
       "    </tr>\n",
       "    <tr>\n",
       "      <th>25%</th>\n",
       "      <td>14164.870193</td>\n",
       "    </tr>\n",
       "    <tr>\n",
       "      <th>50%</th>\n",
       "      <td>14924.419831</td>\n",
       "    </tr>\n",
       "    <tr>\n",
       "      <th>75%</th>\n",
       "      <td>15499.773371</td>\n",
       "    </tr>\n",
       "    <tr>\n",
       "      <th>max</th>\n",
       "      <td>17252.140622</td>\n",
       "    </tr>\n",
       "  </tbody>\n",
       "</table>\n",
       "</div>"
      ],
      "text/plain": [
       "       total_reward\n",
       "count     50.000000\n",
       "mean   14871.565011\n",
       "std     1089.482163\n",
       "min    12472.303874\n",
       "25%    14164.870193\n",
       "50%    14924.419831\n",
       "75%    15499.773371\n",
       "max    17252.140622"
      ]
     },
     "execution_count": 23,
     "metadata": {},
     "output_type": "execute_result"
    }
   ],
   "source": [
    "# Rewards mean of the last 50 episodes\n",
    "last_50_reward_df = rewards_df.tail(50)\n",
    "#print(\"The mean value of the last 10 episodes is: {:7.3f}\".format(last_10_reward_df.mean(axis=0)))\n",
    "last_50_reward_df.describe()"
   ]
  },
  {
   "cell_type": "markdown",
   "metadata": {
    "collapsed": true
   },
   "source": [
    "## Reflections\n",
    "\n",
    "**Question 1**: Describe the task that you specified in `task.py`.  How did you design the reward function?\n",
    "\n",
    "**Answer**:<br>\n",
    "For this project the **take-off task** has been chosen. For the simulation this means, the quadcopter shall start from a specific position at the ground, then lift off and flying to reach a configured target position. Important about this target is the height - in other words the positions z value. If the drone has reached such specific height value, the episode ends and a positive reward is given during that phase. A negative reward is given, if this target height has been exceeded. The velocity configuration is included proportionally to calculate the final reward value. For the positive reward it has a higher influence.\n",
    "\n",
    "This specification is implemented in the task class as new function get_TakeOff_reward(self):<br>\n",
    "`\n",
    "if self.sim.pose[2] > self.target_pos[2]:\n",
    "    reward = -20.0 * 1/3 * self.sim.v[2]\n",
    "else:\n",
    "    reward = 30.0 * 2/3 * self.sim.v[2]\n",
    "`\n",
    "\n",
    "For this constraint 'end of eposide' - means reaching the z value -, all other technical values, like x- or y- values or velocity or others, are irrelevant.\n",
    "\n",
    "For the tasks reward behaviour, they are important, but have not all been included yet (only velocity). So, as future toDo, there could be different penalties be implemented as well, like drift effects or if the quadcopter trundles or is tumbling down or crashes completely.\n",
    "\n",
    "Some more details according task specification are mentioned in chapter _Chosen Task: take-off_ of this additionally written [document](https://github.com/IloBe/RL_Quadcopter_master/blob/master/RL_architecture_info.pdf)."
   ]
  },
  {
   "attachments": {},
   "cell_type": "markdown",
   "metadata": {},
   "source": [
    "**Question 2**: Discuss your agent briefly, using the following questions as a guide:\n",
    "\n",
    "- What learning algorithm(s) did you try? What worked best for you?\n",
    "- What was your final choice of hyperparameters (such as $\\alpha$, $\\gamma$, $\\epsilon$, etc.)?\n",
    "- What neural network architecture did you use (if any)? Specify layers, sizes, activation functions, etc.\n",
    "\n",
    "**Answer**:<br>\n",
    "This quadcopter project is a domain example of complex tasks of sensory input. This means, we are working with continuous and highdimensional action spaces and having a regression problem that shall be solved with a\n",
    "reinforcement learning method.\n",
    "\n",
    "For the project domain, the quadcopter shall autonomously achieve the control about the chosen take-off task. To reach this simulated physics task and to find a high performant policy a specific reinforcement learning concept is implemented, called **actor-critic method** using _deep Q-learning neural networks_ and lower-dimensional action spaces. The concept combines the advantages of Policy Gradient and DQNs.<br>\n",
    "Such model-free, off-policy actor-critic method using deep function approximators is choosen, because it can learn policies for such high-dimensional, continuous domain action spaces best according the mentioned DDPG paper.\n",
    "\n",
    "Overview of the architecture is shown [here](https://github.com/IloBe/RL_Quadcopter_master/blob/master/RL-actor-critic_architecture.PNG) (Source: http://people.csail.mit.edu/hongzi/content/publications/DeepRM-HotNets16.pdf).\n",
    "\n",
    "In this project, this kind of actor-critic network is implemented with batch-normalisation, dropout layers, final sigmoid activation function and Adam as optimiser. For each model component, means actor and critic, a local model and a target model is created used during training and the associated DDPG agent works with Deep Deterministic Policy Gradient method to reach the target goal by getting a good policy with high convergence.\n",
    "\n",
    "Regarding the networks:<br>\n",
    "Their structure and layer size is logged during the training code block process (see above).\n",
    "\n",
    "For the **actor**, the models input states are mapped to output actions, they are used to update the policy function π(a|s,θ).<br>\n",
    "- specific model information:<br>\n",
    "  -- the Keras Sequential() model concept is used<br>\n",
    "  -- states are given as input for the input layer<br>\n",
    "  -- in the hidden layers,<br> \n",
    "     for stabilisation BatchNormalization() instances and\n",
    "     to avoid overfitting Dropout() instances are added<br>\n",
    "  -- the output layer delivers one node for each action of the action space and<br>\n",
    "     because of using a sigmoid activation function, its output range [0, 1] is scaled<br>\n",
    "  -- the project implementation is a regression issue,<br>\n",
    "     therefore the learning process is configured with Adam as optimiser and a mean backend loss function\n",
    "\n",
    "For the **critic**, the models input state-action pairs are mapped to output q values.<br>\n",
    "- specific model information:<br>\n",
    "  -- because of having 2 foundation layers for states and actions input, the Keras Model()-layer concept is used<br>\n",
    "  -- in the hidden layers,<br> \n",
    "     for stabilisation BatchNormalization() instances and\n",
    "     to avoid overfitting Dropout() instances are added<br>\n",
    "  -- as final output layer for Q-values Dense() is used<br>\n",
    "  -- the learning configuration is implemented with Adam optimiser and mean squared error as loss function<br>\n",
    "  -- finally, with Keras backend concept a function is created to get action gradients to be used by the actor model\n",
    "\n",
    "The **final parameters** are:\n",
    "- ground position: position array [0., 0., 10.]\n",
    "- target height: position array [0., 0., 30.]: an evaluation with a lower hight value has the consequence of being instable as well, the reward - episode diagrams showed no stable learning\n",
    "- Velocity has a big influence: it has been decided to put this init value to [0., 0., 10.], because [0., 0., 20.] leads the quadcopter being very instable with mainly negative rewards. In other words, the drone exceeded the target height mostly.\n",
    "- the tau value used for smooth shifting (soft target update) has been updated from 0.125 to 0.01\n",
    "- noise values have been changed either from lower mu and sigma values to higher ones\n",
    "- the final settings for the last plot are<br>\n",
    "  'alpha' : 0.0001, 'beta' : 0.001, 'gamma' : 0.9, 'tau' : 0.01, 'mu' : 0.3, 'theta' : 0.15, 'sigma' : 0.3 and\n",
    "  'max_size' : 100000\n",
    "   \n",
    "Nevertheless, the results are not optimal and it is expected that there is a better combination of parameters to avoid the few big negative rewards after episode size >300. To deliver a proper set of parameters would be easier, if there is a good understanding of the domain physical properties and their dependencies. With this knowledge the quadcopter could be set on a validated stable basic configuration."
   ]
  },
  {
   "cell_type": "markdown",
   "metadata": {},
   "source": [
    "**Question 3**: Using the episode rewards plot, discuss how the agent learned over time.\n",
    "\n",
    "- Was it an easy task to learn or hard?\n",
    "- Was there a gradual learning curve, or an aha moment?\n",
    "- How good was the final performance of the agent? (e.g. mean rewards over the last 10 episodes)\n",
    "\n",
    "**Answer**:<br>\n",
    "Sorry, but in this context I cannot answer the first question properly, because 'easy' is an abstract word and no requirements are mentioned to define what you mean by using the word 'easy'.\n",
    "\n",
    "So let as assume, 'easy' means the task has been learned during the first 300 episodes, then the answer would be yes, because the device learned the task during such period. Approximately, between episodes 220 and 300 it has a kind of aha moment. There was no constant increasing learning curve. After haveing reached the training goal, mainly a constant high reward value remains, means the device is mainly stable, with the exception of 3 situations.\n",
    "\n",
    "If we assume, 'easy' means the task has been learned constantly during the first 200 episodes, then the answer would be no, because at the beginning during the first 100 episodes there is a constant up and down. For the next 100 episodes the device has a low reward, so, it does not reach the training goal and has always exceeded the z value target position.\n",
    "\n",
    "At the end, the quadcopter has learned the task most of the time. The mean reward values of the last 10 and last 50 episodes is nearly the same and the 50% percentile is the same:\n",
    "- last 10 episodes: 14744.469514\n",
    "- last 50 episodes: 14871.565011\n",
    "- 50% percentile for both: 14924.419831\n",
    "\n",
    "Unfortunately, during the learned task period the device failed three times. Therefore, the final set of parameters is good, but not perfect."
   ]
  },
  {
   "cell_type": "markdown",
   "metadata": {},
   "source": [
    "**Question 4**: Briefly summarize your experience working on this project. You can use the following prompts for ideas.\n",
    "\n",
    "- What was the hardest part of the project? (e.g. getting started, plotting, specifying the task, etc.)\n",
    "- Did you find anything interesting in how the quadcopter or your agent behaved?\n",
    "\n",
    "**Answer**:<br>\n",
    "Reading about the project content and having the course material in mind, it was clear that the solution should be an actor-critic method with a deep Q-learning neural network. Some of the details and how to start the implementation was mentioned in the project documentation. But everything is only understandable by knowing the technical domain. So, for me the hardest part of the project has been the domain issue with task selection and specification.\n",
    "\n",
    "It is clear that not knowing anything about the quadcopter domain, it is difficult to create a detailed specification of a general labelled task like 'take-off' or 'landing'. Specific detailed knowledge about i.a. geography landscape and weather aspects, mechanical and electrical or other technical properties, user behaviour, device maintenance and the dependencies from and with all such topics have to be taken into account. Not having in mind all the needed mathematical, physical and chemical knowledge for writing proper and useful documentation about it.\n",
    "\n",
    "What does this mean for the quadcopter software implementation?\n",
    "\n",
    "Let us assume knowing a lot of things of this domain. Anyway, it would be a huge and time consuming requirement engineering process to create such software task specifications for all use cases, as it is generally necessary for software architecture design, implementation and testing. \n",
    "\n",
    "With reinforcement learning there is no need to do that in details, because it is an inherent major property of reinforcement learning „to train an agent by telling it what the desired goal is instead of how to reach it“: See [here](http://mkoval.org/projects/quadrotor/files/quadrotor-rl.pdf) as starting point paper _Autonomous Quadrotor Control with Reinforcement Learning_ from Koval, Mansley and Littman. Such abstraction clearly simplified this projects software realisation, but it is still not easy.<br>\n",
    "Additionally, starting with writing down the RL concept, the software architecture content and technical domain information helpded a lot to ease the implementation work. This [document](https://github.com/IloBe/RL_Quadcopter_master/blob/master/RL_architecture_info.pdf) is stored in the associated GitHub repository as well.\n",
    "\n",
    "Creating own agent, actor, critic classes from the scratch, was only possible with the in the current chapter _Task_ mentioned DDPG paper of the  ICLR conference from 2016 _Continuous Control With Deep Reinforcement Learning_ from the Google DeepMind team (London, UK). With such paper it was more clear what components shall be available and how the algorithm should look like. Nevertheless, doing the first own implementation of such kind of deep neural network and the associated reinforcement learning method took some time.\n",
    "\n",
    "Working on the first Udacity project of this machine learning part 2 course - dog breed classifier - was helpful, because already there some examination about network architectures has happened. So, BatchNormalizer() and Dropout() layers have been added at once, also the usage of the Adam optimiser.\n",
    "\n",
    "Regarding the training results, at the beginning, I have expected that the best reward score would change by changing the DDPG agent parameters, but with the first reward function specification, it always has been on the same level value (7560.0) by having the same velocity value. It was different, by changing the physical task parameter velocity. With velocity change drastic behaviour and reward ranges appeared. Means, velocity shall not be changed to higher values in big steps and its value has been added to the reward function proportionally after having had this insight.\n",
    "Afterwards, mainly the noise parameter changes have led to the final result.\n",
    "\n",
    "Furthermore, because of time pressure not all ideas and insights (e.g. additional TakeOff_task subclass as factory design pattern and its penalty handling) could be implemented. There is still an open toDo list.\n",
    "\n",
    "...\n"
   ]
  }
 ],
 "metadata": {
  "anaconda-cloud": {},
  "kernelspec": {
   "display_name": "quadcop",
   "language": "python",
   "name": "quadcop"
  },
  "language_info": {
   "codemirror_mode": {
    "name": "ipython",
    "version": 3
   },
   "file_extension": ".py",
   "mimetype": "text/x-python",
   "name": "python",
   "nbconvert_exporter": "python",
   "pygments_lexer": "ipython3",
   "version": "3.6.8"
  }
 },
 "nbformat": 4,
 "nbformat_minor": 2
}
